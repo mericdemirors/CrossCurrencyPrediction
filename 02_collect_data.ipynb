{
 "cells": [
  {
   "cell_type": "code",
   "execution_count": 1,
   "metadata": {},
   "outputs": [],
   "source": [
    "import requests\n",
    "import pandas as pd\n",
    "from datetime import datetime\n",
    "import time"
   ]
  },
  {
   "cell_type": "code",
   "execution_count": 2,
   "metadata": {},
   "outputs": [],
   "source": [
    "symbols = ['BTC', 'ETH', 'BNB', 'XRP', 'SOL', 'DOT', 'LINK', 'DOGE']"
   ]
  },
  {
   "cell_type": "code",
   "execution_count": 3,
   "metadata": {},
   "outputs": [],
   "source": [
    "def get_binance_data(symbol, start_date, end_date, interval='1d'):\n",
    "    \"\"\"\n",
    "    Fetch historical kline/candlestick data from Binance API.\n",
    "\n",
    "    Parameters:\n",
    "    - symbol: str (e.g., 'BTCUSDT', 'ETHUSDT')\n",
    "    - start_date: str in 'YYYY-MM-DD'\n",
    "    - end_date: str in 'YYYY-MM-DD'\n",
    "    - interval: str - Binance-supported interval (e.g., '1m', '5m', '1h', '1d')\n",
    "\n",
    "    Returns:\n",
    "    - Pandas DataFrame with columns: time, open, high, low, close, volume, etc.\n",
    "    \"\"\"\n",
    "\n",
    "    base_url = 'https://api.binance.com/api/v3/klines'\n",
    "    interval_ms_map = {'1m': 60_000, '3m': 180_000, '5m': 300_000, '15m': 900_000, '30m': 1_800_000, '1h': 3_600_000, '2h': 7_200_000, '4h': 14_400_000, '6h': 21_600_000, '8h': 28_800_000, '12h': 43_200_000, '1d': 86_400_000, '3d': 259_200_000, '1w': 604_800_000, '1M': 2_592_000_000}\n",
    "\n",
    "    if interval not in interval_ms_map:\n",
    "        raise ValueError(f\"Unsupported interval '{interval}'. Please use a Binance-supported interval.\")\n",
    "\n",
    "    start_ts = int(datetime.strptime(start_date, '%Y-%m-%d').timestamp() * 1000)\n",
    "    end_ts = int(datetime.strptime(end_date, '%Y-%m-%d').timestamp() * 1000)\n",
    "\n",
    "    all_data = []\n",
    "\n",
    "    while start_ts < end_ts:\n",
    "        params = {'symbol': symbol.upper(), 'interval': interval, 'startTime': start_ts, 'endTime': end_ts, 'limit': 1000}\n",
    "\n",
    "        response = requests.get(base_url, params=params)\n",
    "        response.raise_for_status()\n",
    "\n",
    "        data = response.json()\n",
    "        if not data:\n",
    "            break\n",
    "\n",
    "        all_data.extend(data)\n",
    "\n",
    "        # Move to next batch\n",
    "        last_time = data[-1][0]\n",
    "        start_ts = last_time + interval_ms_map[interval]\n",
    "        time.sleep(0.2)\n",
    "\n",
    "    # Convert to DataFrame\n",
    "    df = pd.DataFrame(all_data, columns=['open_time', 'open', 'high', 'low', 'close', 'volume', 'close_time', 'quote_asset_volume', 'number_of_trades', 'taker_buy_base_asset_volume', 'taker_buy_quote_asset_volume', 'ignore'])\n",
    "\n",
    "    # Process columns\n",
    "    df['open_time'] = pd.to_datetime(df['open_time'], unit='ms')\n",
    "    df['close_time'] = pd.to_datetime(df['close_time'], unit='ms')\n",
    "    numeric_cols = ['open', 'high', 'low', 'close', 'volume', 'quote_asset_volume', 'taker_buy_base_asset_volume', 'taker_buy_quote_asset_volume']\n",
    "    df[numeric_cols] = df[numeric_cols].astype(float)\n",
    "\n",
    "    return df.drop(columns=['ignore', 'volume', 'quote_asset_volume', 'taker_buy_base_asset_volume', 'taker_buy_quote_asset_volume']).reset_index(drop=True)"
   ]
  },
  {
   "cell_type": "code",
   "execution_count": 4,
   "metadata": {},
   "outputs": [],
   "source": [
    "BTC_daily = get_binance_data('BTCUSDT', '2017-01-01', '2026-01-01', interval='1d')\n",
    "BTC_12hourly = get_binance_data('BTCUSDT', '2017-01-01', '2026-01-01', interval='12h')\n",
    "BTC_6hourly = get_binance_data('BTCUSDT', '2017-01-01', '2026-01-01', interval='6h')\n",
    "BTC_1hourly = get_binance_data('BTCUSDT', '2017-01-01', '2026-01-01', interval='1h')\n",
    "BTC = [BTC_daily, BTC_12hourly, BTC_6hourly, BTC_1hourly]"
   ]
  },
  {
   "cell_type": "code",
   "execution_count": 5,
   "metadata": {},
   "outputs": [],
   "source": [
    "ETH_daily = get_binance_data('ETHUSDT', '2017-01-01', '2026-01-01', interval='1d')\n",
    "ETH_12hourly = get_binance_data('ETHUSDT', '2017-01-01', '2026-01-01', interval='12h')\n",
    "ETH_6hourly = get_binance_data('ETHUSDT', '2017-01-01', '2026-01-01', interval='6h')\n",
    "ETH_1hourly = get_binance_data('ETHUSDT', '2017-01-01', '2026-01-01', interval='1h')\n",
    "ETH = [ETH_daily, ETH_12hourly, ETH_6hourly, ETH_1hourly]"
   ]
  },
  {
   "cell_type": "code",
   "execution_count": 6,
   "metadata": {},
   "outputs": [],
   "source": [
    "BNB_daily = get_binance_data('BNBUSDT', '2017-01-01', '2026-01-01', interval='1d')\n",
    "BNB_12hourly = get_binance_data('BNBUSDT', '2017-01-01', '2026-01-01', interval='12h')\n",
    "BNB_6hourly = get_binance_data('BNBUSDT', '2017-01-01', '2026-01-01', interval='6h')\n",
    "BNB_1hourly = get_binance_data('BNBUSDT', '2017-01-01', '2026-01-01', interval='1h')\n",
    "BNB = [BNB_daily, BNB_12hourly, BNB_6hourly, BNB_1hourly]"
   ]
  },
  {
   "cell_type": "code",
   "execution_count": 7,
   "metadata": {},
   "outputs": [],
   "source": [
    "XRP_daily = get_binance_data('XRPUSDT', '2017-01-01', '2026-01-01', interval='1d')\n",
    "XRP_12hourly = get_binance_data('XRPUSDT', '2017-01-01', '2026-01-01', interval='12h')\n",
    "XRP_6hourly = get_binance_data('XRPUSDT', '2017-01-01', '2026-01-01', interval='6h')\n",
    "XRP_1hourly = get_binance_data('XRPUSDT', '2017-01-01', '2026-01-01', interval='1h')\n",
    "XRP = [XRP_daily, XRP_12hourly, XRP_6hourly, XRP_1hourly]"
   ]
  },
  {
   "cell_type": "code",
   "execution_count": 8,
   "metadata": {},
   "outputs": [],
   "source": [
    "SOL_daily = get_binance_data('SOLUSDT', '2017-01-01', '2026-01-01', interval='1d')\n",
    "SOL_12hourly = get_binance_data('SOLUSDT', '2017-01-01', '2026-01-01', interval='12h')\n",
    "SOL_6hourly = get_binance_data('SOLUSDT', '2017-01-01', '2026-01-01', interval='6h')\n",
    "SOL_1hourly = get_binance_data('SOLUSDT', '2017-01-01', '2026-01-01', interval='1h')\n",
    "SOL = [SOL_daily, SOL_12hourly, SOL_6hourly, SOL_1hourly]"
   ]
  },
  {
   "cell_type": "code",
   "execution_count": 9,
   "metadata": {},
   "outputs": [],
   "source": [
    "DOT_daily = get_binance_data('DOTUSDT', '2017-01-01', '2026-01-01', interval='1d')\n",
    "DOT_12hourly = get_binance_data('DOTUSDT', '2017-01-01', '2026-01-01', interval='12h')\n",
    "DOT_6hourly = get_binance_data('DOTUSDT', '2017-01-01', '2026-01-01', interval='6h')\n",
    "DOT_1hourly = get_binance_data('DOTUSDT', '2017-01-01', '2026-01-01', interval='1h')\n",
    "DOT = [DOT_daily, DOT_12hourly, DOT_6hourly, DOT_1hourly]"
   ]
  },
  {
   "cell_type": "code",
   "execution_count": 10,
   "metadata": {},
   "outputs": [],
   "source": [
    "LINK_daily = get_binance_data('LINKUSDT', '2017-01-01', '2026-01-01', interval='1d')\n",
    "LINK_12hourly = get_binance_data('LINKUSDT', '2017-01-01', '2026-01-01', interval='12h')\n",
    "LINK_6hourly = get_binance_data('LINKUSDT', '2017-01-01', '2026-01-01', interval='6h')\n",
    "LINK_1hourly = get_binance_data('LINKUSDT', '2017-01-01', '2026-01-01', interval='1h')\n",
    "LINK = [LINK_daily, LINK_12hourly, LINK_6hourly, LINK_1hourly]"
   ]
  },
  {
   "cell_type": "code",
   "execution_count": 11,
   "metadata": {},
   "outputs": [],
   "source": [
    "DOGE_daily = get_binance_data('DOGEUSDT', '2017-01-01', '2026-01-01', interval='1d')\n",
    "DOGE_12hourly = get_binance_data('DOGEUSDT', '2017-01-01', '2026-01-01', interval='12h')\n",
    "DOGE_6hourly = get_binance_data('DOGEUSDT', '2017-01-01', '2026-01-01', interval='6h')\n",
    "DOGE_1hourly = get_binance_data('DOGEUSDT', '2017-01-01', '2026-01-01', interval='1h')\n",
    "DOGE = [DOGE_daily, DOGE_12hourly, DOGE_6hourly, DOGE_1hourly]"
   ]
  },
  {
   "cell_type": "code",
   "execution_count": 14,
   "metadata": {},
   "outputs": [
    {
     "data": {
      "text/plain": [
       "['BTC', 'ETH', 'BNB', 'XRP', 'SOL', 'DOT', 'LINK', 'DOGE']"
      ]
     },
     "execution_count": 14,
     "metadata": {},
     "output_type": "execute_result"
    }
   ],
   "source": [
    "symbols"
   ]
  },
  {
   "cell_type": "code",
   "execution_count": null,
   "metadata": {},
   "outputs": [],
   "source": [
    "for coin_tables, symbol in zip([BTC, ETH, BNB, XRP, SOL, DOT, LINK, DOGE], symbols):\n",
    "    for table, time in zip(coin_tables, [\"1d\", \"12h\", \"6h\", \"1h\"]):\n",
    "        table.to_csv(symbol + \"_\" + time + \".csv\", index=False)"
   ]
  }
 ],
 "metadata": {
  "kernelspec": {
   "display_name": "490-venv",
   "language": "python",
   "name": "python3"
  },
  "language_info": {
   "codemirror_mode": {
    "name": "ipython",
    "version": 3
   },
   "file_extension": ".py",
   "mimetype": "text/x-python",
   "name": "python",
   "nbconvert_exporter": "python",
   "pygments_lexer": "ipython3",
   "version": "3.10.12"
  }
 },
 "nbformat": 4,
 "nbformat_minor": 2
}
