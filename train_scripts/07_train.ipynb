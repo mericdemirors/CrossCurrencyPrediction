{
 "cells": [
  {
   "cell_type": "code",
   "execution_count": null,
   "metadata": {},
   "outputs": [],
   "source": [
    "# # Remove any existing cloned repo\n",
    "# !rm -rf CrossCurrencyPrediction\n",
    "\n",
    "# # Clone the repo\n",
    "# !git clone https://github.com/mericdemirors/CrossCurrencyPrediction\n",
    "\n",
    "# # Change directory to repo\n",
    "# %cd CrossCurrencyPrediction/train_scripts"
   ]
  },
  {
   "cell_type": "code",
   "execution_count": null,
   "metadata": {},
   "outputs": [],
   "source": [
    "import argparse\n",
    "from train import train_with_args"
   ]
  },
  {
   "cell_type": "code",
   "execution_count": null,
   "metadata": {},
   "outputs": [],
   "source": [
    "args_dict = dict(\n",
    "    model_name=\"\",\n",
    "    input_features=16,\n",
    "    output_features=4,\n",
    "    input_window=28,\n",
    "    output_window=8,\n",
    "    dropout=0.3,\n",
    "    num_layers=3,\n",
    "    hidden_dim=128,\n",
    "    num_heads=4,\n",
    "    teacher_forcing_ratio=1.0,\n",
    "    target_coin_index=0,\n",
    "    num_coins=4,\n",
    "    coin_symbol=\"BTC\",\n",
    "    dataset_name=\"LogReturnCoinDataset\",\n",
    "    train_csv_path=\"/home/mericdemirors/Desktop/lecture slides/TUD_lectures/S2/deep_learning_architectures_and_methods/CrossCurrencyPrediction/data/BTC_ETH_BNB_XRP_6h_log_returns_train.csv\",\n",
    "    val_csv_path=\"/home/mericdemirors/Desktop/lecture slides/TUD_lectures/S2/deep_learning_architectures_and_methods/CrossCurrencyPrediction/data/BTC_ETH_BNB_XRP_6h_log_returns_val.csv\",\n",
    "    z_norm_means_csv_path=\"/home/mericdemirors/Desktop/lecture slides/TUD_lectures/S2/deep_learning_architectures_and_methods/CrossCurrencyPrediction/data/BTC_ETH_BNB_XRP_6h_z_norm_means.csv\",\n",
    "    z_norm_stds_csv_path=\"/home/mericdemirors/Desktop/lecture slides/TUD_lectures/S2/deep_learning_architectures_and_methods/CrossCurrencyPrediction/data/BTC_ETH_BNB_XRP_6h_z_norm_stds.csv\",\n",
    "    augmentation_p=0.0,\n",
    "    augmentation_noise_std=0.05,\n",
    "    augment_constant_c=1,\n",
    "    augment_scale_s=0.25,\n",
    "    distribution_scale=100,\n",
    "    distribution_clip=0.2,\n",
    "    loss_name=\"MSE\",\n",
    "    logical_loss_weight=0,\n",
    "    l1_loss_weight=1e-5,\n",
    "    l2_loss_weight=1e-5,\n",
    "    batch_size=32,\n",
    "    epochs=4,\n",
    "    early_stop_patience=7,\n",
    ")"
   ]
  },
  {
   "cell_type": "code",
   "execution_count": null,
   "metadata": {},
   "outputs": [],
   "source": [
    "args_dict[\"model_name\"] = \"TCN\"\n",
    "args = argparse.Namespace(**args_dict)\n",
    "train_with_args(args)"
   ]
  },
  {
   "cell_type": "code",
   "execution_count": null,
   "metadata": {},
   "outputs": [],
   "source": [
    "args_dict[\"model_name\"] = \"EncoderDecoderGRU\"\n",
    "args = argparse.Namespace(**args_dict)\n",
    "train_with_args(args)"
   ]
  },
  {
   "cell_type": "code",
   "execution_count": null,
   "metadata": {},
   "outputs": [],
   "source": [
    "args_dict[\"model_name\"] = \"EncoderDecoderLSTM\"\n",
    "args = argparse.Namespace(**args_dict)\n",
    "train_with_args(args)"
   ]
  },
  {
   "cell_type": "code",
   "execution_count": null,
   "metadata": {},
   "outputs": [],
   "source": [
    "args_dict[\"model_name\"] = \"EncoderDecoderTransformer\"\n",
    "args = argparse.Namespace(**args_dict)\n",
    "train_with_args(args)"
   ]
  },
  {
   "cell_type": "code",
   "execution_count": null,
   "metadata": {},
   "outputs": [],
   "source": [
    "args_dict[\"model_name\"] = \"CoinWiseCrossAttentionLSTM\"\n",
    "args = argparse.Namespace(**args_dict)\n",
    "train_with_args(args)"
   ]
  },
  {
   "cell_type": "code",
   "execution_count": null,
   "metadata": {},
   "outputs": [],
   "source": [
    "args_dict[\"model_name\"] = \"FeatureWiseCrossAttentionLSTM\"\n",
    "args = argparse.Namespace(**args_dict)\n",
    "train_with_args(args)"
   ]
  },
  {
   "cell_type": "code",
   "execution_count": null,
   "metadata": {},
   "outputs": [],
   "source": [
    "import shutil\n",
    "shutil.make_archive(\"train_sessions_zipped\", 'zip', \"train_sessions\")"
   ]
  }
 ],
 "metadata": {
  "kernelspec": {
   "display_name": "490-venv",
   "language": "python",
   "name": "python3"
  },
  "language_info": {
   "codemirror_mode": {
    "name": "ipython",
    "version": 3
   },
   "file_extension": ".py",
   "mimetype": "text/x-python",
   "name": "python",
   "nbconvert_exporter": "python",
   "pygments_lexer": "ipython3",
   "version": "3.10.12"
  }
 },
 "nbformat": 4,
 "nbformat_minor": 2
}
