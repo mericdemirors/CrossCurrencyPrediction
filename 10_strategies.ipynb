{
 "cells": [
  {
   "cell_type": "markdown",
   "metadata": {},
   "source": [
    "# Experiment with randomly selected parametered multiple runs for all strategies"
   ]
  },
  {
   "cell_type": "code",
   "execution_count": 7,
   "metadata": {},
   "outputs": [],
   "source": [
    "symbols = ['BTC', 'ETH', 'BNB', 'XRP']"
   ]
  },
  {
   "cell_type": "code",
   "execution_count": 1,
   "metadata": {},
   "outputs": [],
   "source": [
    "import random\n",
    "\n",
    "import pandas as pd\n",
    "import numpy as np"
   ]
  },
  {
   "cell_type": "code",
   "execution_count": 2,
   "metadata": {},
   "outputs": [
    {
     "data": {
      "text/html": [
       "<div>\n",
       "<style scoped>\n",
       "    .dataframe tbody tr th:only-of-type {\n",
       "        vertical-align: middle;\n",
       "    }\n",
       "\n",
       "    .dataframe tbody tr th {\n",
       "        vertical-align: top;\n",
       "    }\n",
       "\n",
       "    .dataframe thead th {\n",
       "        text-align: right;\n",
       "    }\n",
       "</style>\n",
       "<table border=\"1\" class=\"dataframe\">\n",
       "  <thead>\n",
       "    <tr style=\"text-align: right;\">\n",
       "      <th></th>\n",
       "      <th>open_time</th>\n",
       "      <th>open</th>\n",
       "      <th>high</th>\n",
       "      <th>low</th>\n",
       "      <th>close</th>\n",
       "      <th>close_time</th>\n",
       "      <th>number_of_trades</th>\n",
       "    </tr>\n",
       "  </thead>\n",
       "  <tbody>\n",
       "    <tr>\n",
       "      <th>0</th>\n",
       "      <td>2017-08-17 00:00:00</td>\n",
       "      <td>4261.48</td>\n",
       "      <td>4328.69</td>\n",
       "      <td>4261.32</td>\n",
       "      <td>4315.32</td>\n",
       "      <td>2017-08-17 05:59:59.999</td>\n",
       "      <td>273</td>\n",
       "    </tr>\n",
       "    <tr>\n",
       "      <th>1</th>\n",
       "      <td>2017-08-17 06:00:00</td>\n",
       "      <td>4330.29</td>\n",
       "      <td>4485.39</td>\n",
       "      <td>4287.41</td>\n",
       "      <td>4427.30</td>\n",
       "      <td>2017-08-17 11:59:59.999</td>\n",
       "      <td>309</td>\n",
       "    </tr>\n",
       "    <tr>\n",
       "      <th>2</th>\n",
       "      <td>2017-08-17 12:00:00</td>\n",
       "      <td>4436.06</td>\n",
       "      <td>4485.39</td>\n",
       "      <td>4235.45</td>\n",
       "      <td>4289.24</td>\n",
       "      <td>2017-08-17 17:59:59.999</td>\n",
       "      <td>1448</td>\n",
       "    </tr>\n",
       "    <tr>\n",
       "      <th>3</th>\n",
       "      <td>2017-08-17 18:00:00</td>\n",
       "      <td>4289.24</td>\n",
       "      <td>4369.69</td>\n",
       "      <td>4200.74</td>\n",
       "      <td>4285.08</td>\n",
       "      <td>2017-08-17 23:59:59.999</td>\n",
       "      <td>1397</td>\n",
       "    </tr>\n",
       "    <tr>\n",
       "      <th>4</th>\n",
       "      <td>2017-08-18 00:00:00</td>\n",
       "      <td>4285.08</td>\n",
       "      <td>4340.62</td>\n",
       "      <td>4134.61</td>\n",
       "      <td>4313.56</td>\n",
       "      <td>2017-08-18 05:59:59.999</td>\n",
       "      <td>1670</td>\n",
       "    </tr>\n",
       "  </tbody>\n",
       "</table>\n",
       "</div>"
      ],
      "text/plain": [
       "             open_time     open     high      low    close  \\\n",
       "0  2017-08-17 00:00:00  4261.48  4328.69  4261.32  4315.32   \n",
       "1  2017-08-17 06:00:00  4330.29  4485.39  4287.41  4427.30   \n",
       "2  2017-08-17 12:00:00  4436.06  4485.39  4235.45  4289.24   \n",
       "3  2017-08-17 18:00:00  4289.24  4369.69  4200.74  4285.08   \n",
       "4  2017-08-18 00:00:00  4285.08  4340.62  4134.61  4313.56   \n",
       "\n",
       "                close_time  number_of_trades  \n",
       "0  2017-08-17 05:59:59.999               273  \n",
       "1  2017-08-17 11:59:59.999               309  \n",
       "2  2017-08-17 17:59:59.999              1448  \n",
       "3  2017-08-17 23:59:59.999              1397  \n",
       "4  2017-08-18 05:59:59.999              1670  "
      ]
     },
     "execution_count": 2,
     "metadata": {},
     "output_type": "execute_result"
    }
   ],
   "source": [
    "df = pd.read_csv(\"./data/BTC_6h.csv\")\n",
    "df.head()"
   ]
  },
  {
   "cell_type": "markdown",
   "metadata": {},
   "source": [
    "# Random all in buyer/seller"
   ]
  },
  {
   "cell_type": "code",
   "execution_count": 3,
   "metadata": {},
   "outputs": [
    {
     "name": "stdout",
     "output_type": "stream",
     "text": [
      "Total value: 976.6341904864917\n",
      "Total value: 379.13769659988185\n",
      "Total value: 473.11474877013836\n",
      "Total value: 631.3816848159414\n",
      "Total value: 1500.3166342802695\n",
      "Total value: 1117.0602736858173\n",
      "Total value: 1197.1414935998444\n",
      "Total value: 1005.6708196302357\n",
      "Total value: 908.154837035185\n",
      "Total value: 1301.9936738847741\n",
      "Total value: 1685.4131678610565\n",
      "last day: 1925.2603663332673\n"
     ]
    }
   ],
   "source": [
    "bank = 1000\n",
    "wallet = 0\n",
    "\n",
    "action = \"buy\"\n",
    "\n",
    "for i in range(len(df)):\n",
    "    row_data = df.iloc[i]\n",
    "    price_to_buy_or_sell = (row_data[\"open\"] + row_data[\"close\"] + row_data[\"low\"] + row_data[\"high\"]) / 4\n",
    "\n",
    "    if random.random() < 0.5:\n",
    "        if action == \"buy\" and bank > 0:\n",
    "            wallet = bank / price_to_buy_or_sell\n",
    "            bank = 0\n",
    "            action = \"sell\"\n",
    "        elif action == \"sell\" and wallet > 0:\n",
    "            bank = wallet * price_to_buy_or_sell\n",
    "            wallet = 0\n",
    "            action = \"buy\"\n",
    "\n",
    "    if i%1000 == 0 and i>0:\n",
    "        print(\"Total value:\", bank + wallet * price_to_buy_or_sell)\n",
    "\n",
    "bank = bank + wallet * price_to_buy_or_sell\n",
    "\n",
    "print(\"last day:\", bank)"
   ]
  },
  {
   "cell_type": "markdown",
   "metadata": {},
   "source": [
    "# Random portion buyer/seller"
   ]
  },
  {
   "cell_type": "code",
   "execution_count": 4,
   "metadata": {},
   "outputs": [
    {
     "name": "stdout",
     "output_type": "stream",
     "text": [
      "Total value: 1588.7771004699694\n",
      "Total value: 989.8126556976147\n",
      "Total value: 1612.9026551222732\n",
      "Total value: 1718.450271864297\n",
      "Total value: 3754.4611430909854\n",
      "Total value: 4874.329731765647\n",
      "Total value: 3960.5716152716013\n",
      "Total value: 3758.479495663274\n",
      "Total value: 4005.5476529030266\n",
      "Total value: 6704.114971410295\n",
      "Total value: 7731.089762452435\n",
      "last day: 8061.147764232495\n"
     ]
    }
   ],
   "source": [
    "bank = 1000\n",
    "wallet = 0\n",
    "\n",
    "action = \"buy\"\n",
    "\n",
    "for i in range(len(df)):\n",
    "    row_data = df.iloc[i]\n",
    "    price_to_buy_or_sell = (row_data[\"open\"] + row_data[\"close\"] + row_data[\"low\"] + row_data[\"high\"]) / 4\n",
    "\n",
    "    if random.random() < 0.5:\n",
    "        portion_to_use = random.random()\n",
    "\n",
    "        if action == \"buy\" and bank > 0:\n",
    "            wallet = wallet + (bank*portion_to_use) / price_to_buy_or_sell\n",
    "            bank = bank - bank*portion_to_use\n",
    "            action = \"sell\"\n",
    "        elif action == \"sell\" and wallet > 0:\n",
    "            bank = bank + wallet * portion_to_use * price_to_buy_or_sell\n",
    "            wallet = wallet - wallet*portion_to_use\n",
    "            action = \"buy\"\n",
    "\n",
    "    if i%1000 == 0 and i>0:\n",
    "        print(\"Total value:\", bank + wallet * price_to_buy_or_sell)\n",
    "\n",
    "bank = bank +  wallet * price_to_buy_or_sell\n",
    "\n",
    "print(\"last day:\", bank)"
   ]
  },
  {
   "cell_type": "markdown",
   "metadata": {},
   "source": [
    "# holder buyer/seller"
   ]
  },
  {
   "cell_type": "code",
   "execution_count": 5,
   "metadata": {},
   "outputs": [
    {
     "name": "stdout",
     "output_type": "stream",
     "text": [
      "Total value: 3529.7274676095\n",
      "Total value: 1394.4998528342946\n",
      "Total value: 3898.052319860154\n",
      "Total value: 3601.8682477756206\n",
      "Total value: 21035.496710833668\n",
      "Total value: 32695.921348260676\n",
      "Total value: 24264.848361384462\n",
      "Total value: 18854.255094670316\n",
      "Total value: 23292.870789883367\n",
      "Total value: 64460.723081294476\n",
      "Total value: 107454.65384366391\n",
      "last day: 119775.25374975525\n"
     ]
    }
   ],
   "source": [
    "bank = 1000\n",
    "wallet = 0\n",
    "set_buying_period = 24\n",
    "prev_price_to_buy_or_sell = np.inf\n",
    "buying_period = set_buying_period\n",
    "action = \"buy\"\n",
    "\n",
    "for i in range(len(df)):\n",
    "    row_data = df.iloc[i]\n",
    "    price_to_buy_or_sell = (row_data[\"open\"] + row_data[\"close\"] + row_data[\"low\"] + row_data[\"high\"]) / 4\n",
    "\n",
    "    # if it's time to buy, and we have money\n",
    "    if action == \"buy\" and bank > 0:\n",
    "        wallet = bank / row_data[\"low\"]\n",
    "        bank = 0\n",
    "        action = \"sell\"\n",
    "        prev_price_to_buy_or_sell = price_to_buy_or_sell\n",
    "        buying_period = set_buying_period\n",
    "\n",
    "    # either we bought and now waiting for hold times to pass\n",
    "    # or we are waiting for\n",
    "    if buying_period != 0:\n",
    "        buying_period -= 1\n",
    "        continue\n",
    "\n",
    "    # if it's time to sell, and we have coin, and we can profit from selling\n",
    "    if action == \"sell\" and wallet > 0 and price_to_buy_or_sell > prev_price_to_buy_or_sell:\n",
    "        bank = wallet * row_data[\"high\"]\n",
    "        wallet = 0\n",
    "        action = \"buy\"\n",
    "        buying_period = set_buying_period\n",
    "    \n",
    "    if i%1000 == 0 and i>0:\n",
    "        print(\"Total value:\", bank + wallet * price_to_buy_or_sell)\n",
    "\n",
    "bank = bank +  wallet * price_to_buy_or_sell\n",
    "\n",
    "print(\"last day:\", bank)"
   ]
  },
  {
   "cell_type": "markdown",
   "metadata": {},
   "source": [
    "# Martingale betting"
   ]
  },
  {
   "cell_type": "code",
   "execution_count": 6,
   "metadata": {},
   "outputs": [
    {
     "name": "stdout",
     "output_type": "stream",
     "text": [
      "Total value: 1590.930290086436\n",
      "Total value: 634.5827977081411\n",
      "Total value: 1755.8993764700456\n",
      "Total value: 1623.2414374941782\n",
      "Total value: 6227.278863469632\n",
      "Total value: 7226.562565738126\n",
      "Total value: 4955.803309391671\n",
      "Total value: 3852.98454515521\n",
      "Total value: 4757.689156020951\n",
      "Total value: 10748.895636937128\n",
      "Total value: 14310.093870465354\n",
      "last day: 15949.722577974719\n"
     ]
    }
   ],
   "source": [
    "import numpy as np\n",
    "\n",
    "bank = 1000  # Starting money\n",
    "wallet = 0   # Amount of coin\n",
    "set_holding_period = 10\n",
    "base_bet = 10  # Initial bet\n",
    "current_bet = base_bet\n",
    "prev_price_to_buy = np.inf\n",
    "holding_period = 0\n",
    "\n",
    "action = \"buy\"\n",
    "\n",
    "for i in range(len(df)):\n",
    "    row_data = df.iloc[i]\n",
    "    price_to_buy_or_sell = (row_data[\"open\"] + row_data[\"close\"] + row_data[\"low\"] + row_data[\"high\"]) / 4\n",
    "\n",
    "    # Handle buy logic\n",
    "    if action == \"buy\" and bank >= current_bet:\n",
    "        coins_bought = current_bet / price_to_buy_or_sell\n",
    "        wallet += coins_bought\n",
    "        bank -= current_bet\n",
    "        prev_price_to_buy = price_to_buy_or_sell\n",
    "        holding_period = set_holding_period\n",
    "        action = \"sell\"\n",
    "    \n",
    "    # Wait for the holding period to pass\n",
    "    elif action == \"sell\":\n",
    "        holding_period -= 1\n",
    "        if holding_period > 0:\n",
    "            continue\n",
    "        else:\n",
    "            # Holding period is over; decide whether to sell\n",
    "            coin_value_now = wallet * price_to_buy_or_sell\n",
    "            cost_basis = coins_bought * prev_price_to_buy\n",
    "\n",
    "            profit = coin_value_now - cost_basis\n",
    "\n",
    "            if profit >= 0:\n",
    "                pass  # Reset to base bet\n",
    "            else:\n",
    "                # Double the previous bet or bet enough to cover the loss\n",
    "                current_bet = current_bet * 2\n",
    "                if current_bet > bank:\n",
    "                    bank = bank + wallet * price_to_buy_or_sell\n",
    "                    wallet = 0\n",
    "                    if current_bet > bank:\n",
    "                        current_bet = base_bet\n",
    "            action = \"buy\"\n",
    "\n",
    "    if i%1000 == 0 and i>0:\n",
    "        print(\"Total value:\", bank + wallet * price_to_buy_or_sell)\n",
    "\n",
    "bank = bank +  wallet * price_to_buy_or_sell\n",
    "\n",
    "print(\"last day:\", bank)"
   ]
  },
  {
   "cell_type": "markdown",
   "metadata": {},
   "source": [
    "# Dollar cost averaging"
   ]
  },
  {
   "cell_type": "code",
   "execution_count": 21,
   "metadata": {},
   "outputs": [
    {
     "name": "stdout",
     "output_type": "stream",
     "text": [
      "Total value: 1106.989828835646\n",
      "Total value: 934.8789336353772\n",
      "Total value: 1296.0348253712634\n",
      "Total value: 1246.563675378751\n",
      "Total value: 3216.833653668622\n",
      "Total value: 3658.7376136237663\n",
      "Total value: 2626.6308146874712\n",
      "Total value: 2105.5846387856645\n",
      "Total value: 2553.9245417821608\n",
      "Total value: 5634.967943122918\n",
      "Total value: 7495.788235219159\n",
      "last day: 8352.537612917842\n"
     ]
    }
   ],
   "source": [
    "bank = 1000\n",
    "wallet = 0\n",
    "period = 1000\n",
    "periodic_investment_budget = 1000 / (len(df) / period)\n",
    "\n",
    "for i in range(len(df)):\n",
    "    row_data = df.iloc[i]\n",
    "    price_to_buy_or_sell = (row_data[\"open\"] + row_data[\"close\"] + row_data[\"low\"] + row_data[\"high\"]) / 4\n",
    "\n",
    "    if i % period == 0 and bank >= periodic_investment_budget:\n",
    "        # Invest the fixed amount\n",
    "        quantity_bought = periodic_investment_budget / price_to_buy_or_sell\n",
    "        wallet += quantity_bought\n",
    "        bank -= periodic_investment_budget\n",
    "    \n",
    "    if i%1000 == 0 and i>0:\n",
    "        print(\"Total value:\", bank + wallet * price_to_buy_or_sell)\n",
    "\n",
    "bank = bank +  wallet * price_to_buy_or_sell\n",
    "\n",
    "print(\"last day:\", bank)"
   ]
  },
  {
   "cell_type": "markdown",
   "metadata": {},
   "source": [
    "## SMA crossover"
   ]
  },
  {
   "cell_type": "code",
   "execution_count": 9,
   "metadata": {},
   "outputs": [
    {
     "name": "stdout",
     "output_type": "stream",
     "text": [
      "Total value: 2177.2180878903446\n",
      "Total value: 1563.444564669182\n",
      "Total value: 3615.4011714832723\n",
      "Total value: 3558.1268154996355\n",
      "Total value: 8728.868800347946\n",
      "Total value: 8533.817381564153\n",
      "Total value: 8276.775823994705\n",
      "Total value: 7809.630308891603\n",
      "Total value: 8128.153728418645\n",
      "Total value: 18110.860613154673\n",
      "Total value: 19299.968842766597\n",
      "last day: 20200.549178107693\n"
     ]
    }
   ],
   "source": [
    "bank = 1000\n",
    "wallet = 0\n",
    "action = \"buy\"  # Initial action can be to buy if there's bank\n",
    "\n",
    "short_window = 10\n",
    "long_window = 30\n",
    "\n",
    "# Calculate Simple Moving Averages\n",
    "df['SMA_short'] =((df[\"open\"] + df[\"close\"] + df[\"low\"] + df[\"high\"]) / 4).rolling(window=short_window, min_periods=1).mean()\n",
    "df['SMA_long'] = ((df[\"open\"] + df[\"close\"] + df[\"low\"] + df[\"high\"]) / 4).rolling(window=long_window, min_periods=1).mean()\n",
    "\n",
    "for i in range(len(df)):\n",
    "    row_data = df.iloc[i]\n",
    "    price_to_buy_or_sell = (row_data[\"open\"] + row_data[\"close\"] + row_data[\"low\"] + row_data[\"high\"]) / 4\n",
    "\n",
    "    # Check for crossover signals (avoiding the first few periods where SMAs are still calculating)\n",
    "    if i > long_window:\n",
    "        previous_row = df.iloc[i-1]\n",
    "        short_above_long = previous_row['SMA_short'] < previous_row['SMA_long'] and row_data['SMA_short'] > row_data['SMA_long']\n",
    "        short_below_long = previous_row['SMA_short'] > previous_row['SMA_long'] and row_data['SMA_short'] < row_data['SMA_long']\n",
    "\n",
    "        if short_above_long and action == \"buy\" and bank > 0:\n",
    "            # Buy with all available bank\n",
    "            wallet = bank / price_to_buy_or_sell\n",
    "            bank = 0\n",
    "            action = \"sell\"\n",
    "\n",
    "        elif short_below_long and action == \"sell\" and wallet > 0:\n",
    "            # Sell all available wallet\n",
    "            bank = wallet * price_to_buy_or_sell\n",
    "            wallet = 0\n",
    "            action = \"buy\"\n",
    "\n",
    "    if i%1000 == 0 and i>0:\n",
    "        print(\"Total value:\", bank + wallet * price_to_buy_or_sell)\n",
    "\n",
    "bank = bank +  wallet * price_to_buy_or_sell\n",
    "\n",
    "print(\"last day:\", bank)"
   ]
  },
  {
   "cell_type": "markdown",
   "metadata": {},
   "source": [
    "## Volatility"
   ]
  },
  {
   "cell_type": "code",
   "execution_count": 10,
   "metadata": {},
   "outputs": [
    {
     "name": "stdout",
     "output_type": "stream",
     "text": [
      "Total value: 19472.75461155805\n",
      "Total value: 19472.75461155805\n",
      "Total value: 23564.353381344834\n",
      "Total value: 18943.366163957286\n",
      "Total value: 4275.9792574807\n",
      "Total value: 4275.9792574807\n",
      "Total value: 8699.609677397013\n",
      "Total value: 8969.180389011777\n",
      "Total value: 8969.180389011777\n",
      "Total value: 8694.21489599097\n",
      "Total value: 5856.942973097878\n",
      "last day: 6339.397128457123\n"
     ]
    }
   ],
   "source": [
    "bank = 1000\n",
    "wallet = 0\n",
    "action = \"buy\"  # Initial action\n",
    "\n",
    "# Calculate ATR\n",
    "high_low = df['high'] - df['low']\n",
    "high_close_prev = abs(df['high'] - df['close'].shift(1))\n",
    "low_close_prev = abs(df['low'] - df['close'].shift(1))\n",
    "tr = pd.concat([high_low, high_close_prev, low_close_prev], axis=1).max(axis=1)\n",
    "df['ATR'] = tr.rolling(window=16, min_periods=1).mean()\n",
    "\n",
    "for i in range(len(df)):\n",
    "    row_data = df.iloc[i]\n",
    "    price = (row_data[\"open\"] + row_data[\"close\"] + row_data[\"low\"] + row_data[\"high\"]) / 4\n",
    "    atr = row_data[\"ATR\"]\n",
    "\n",
    "    # Define dynamic volatility thresholds based on the mean ATR\n",
    "    mean_atr = df['ATR'].iloc[:i].mean() if i > 0 else atr  # Use historical mean\n",
    "\n",
    "    if mean_atr > 0:\n",
    "        low_volatility_threshold = mean_atr * 1.25\n",
    "        high_volatility_threshold = mean_atr * 2.5\n",
    "    else:\n",
    "        low_volatility_threshold = 0\n",
    "        high_volatility_threshold = float('inf')\n",
    "\n",
    "    # Buy logic: After a period of low volatility, expecting a breakout\n",
    "    if atr < low_volatility_threshold and action == \"buy\" and bank > 0:\n",
    "        # Buy with all available bank\n",
    "        wallet = bank / price\n",
    "        bank = 0\n",
    "        action = \"sell\"\n",
    "\n",
    "    # Sell logic: After a period of high volatility, expecting consolidation\n",
    "    elif atr > high_volatility_threshold and action == \"sell\" and wallet > 0:\n",
    "        # Sell all available wallet\n",
    "        bank = wallet * price\n",
    "        wallet = 0\n",
    "        action = \"buy\"\n",
    "\n",
    "    if i%1000 == 0 and i>0:\n",
    "        print(\"Total value:\", bank + wallet * price_to_buy_or_sell)\n",
    "\n",
    "bank = bank +  wallet * price_to_buy_or_sell\n",
    "\n",
    "print(\"last day:\", bank)"
   ]
  },
  {
   "cell_type": "markdown",
   "metadata": {},
   "source": [
    "# Trend following"
   ]
  },
  {
   "cell_type": "code",
   "execution_count": 11,
   "metadata": {},
   "outputs": [
    {
     "name": "stdout",
     "output_type": "stream",
     "text": [
      "Total value: 25227.219178628326\n",
      "Total value: 1859.4048751134128\n",
      "Total value: 33876.411364883876\n",
      "Total value: 31807.05470737833\n",
      "Total value: 21857.567147929924\n",
      "Total value: 7125.101917530751\n",
      "Total value: 6283.895963023996\n",
      "Total value: 25873.87271055447\n",
      "Total value: 19120.849956223457\n",
      "Total value: 15712.081594665742\n",
      "Total value: 14144.277561280182\n",
      "last day: 12738.118559957422\n"
     ]
    }
   ],
   "source": [
    "bank = 1000\n",
    "wallet = 0\n",
    "action = \"buy\"  # Initial action\n",
    "\n",
    "for i in range(len(df)):\n",
    "    price = df['close'].iloc[i]\n",
    "\n",
    "    # Check for buy signal\n",
    "    if action == \"buy\" and bank > 0 and i >= 16:\n",
    "        previous_price = df['close'].iloc[i - 16]\n",
    "        percentage_change = (price - previous_price) / previous_price\n",
    "        if percentage_change >= 0.05:\n",
    "            # Buy with all available bank\n",
    "            wallet = bank / price\n",
    "            bank = 0\n",
    "            action = \"sell\"\n",
    "\n",
    "    # Check for sell signal\n",
    "    elif action == \"sell\" and wallet > 0 and i >= 5:\n",
    "        previous_price = df['close'].iloc[i - 5]\n",
    "        percentage_change = (price - previous_price) / previous_price\n",
    "        if percentage_change <= -0.05:\n",
    "            # Sell all available wallet\n",
    "            bank = wallet * price\n",
    "            wallet = 0\n",
    "            action = \"buy\"\n",
    "\n",
    "    if i%1000 == 0 and i>0:\n",
    "        print(\"Total value:\", bank + wallet * price_to_buy_or_sell)\n",
    "\n",
    "bank = bank +  wallet * price_to_buy_or_sell\n",
    "\n",
    "print(\"last day:\", bank)"
   ]
  },
  {
   "cell_type": "markdown",
   "metadata": {},
   "source": [
    "## Toast Bread\n",
    "\n",
    "A. 1- find the best profiting [lowest-highest] slice range\n",
    "A. 2- set call -> buy at lowest, sell at highest\n",
    "A. 3- remove this range from data, collect remainings ranges as a list of ranges\n",
    "A. 4- continue doing this 1-2-3 steps at each range till there is no [lowest-highest] range left\n",
    "A. 5- for all remaining slices do one of these:\n",
    "A. 5.1- buy at open if you can sell at close or highest with profit\n",
    "A. 5.2- buy at lowest if you can sell at close\n",
    "\n",
    "When new data comes:\n",
    "B. 1- you dont have any ongoing plan, you are all done with your [highest lowest] slice range\n",
    "B. 2- then you do all this planning stuff again with the new data\n",
    "\n",
    "or\n",
    "\n",
    "C. 1- you have some ongoing plan, with your [highest lowest] slice range\n",
    "C. 2- discard all plans other than the ongoin one\n",
    "C. 3- check the state of your ongoing plan\n",
    "C. 4.1- if you have a better selling point at a highest further on the timeline, change your current ongoing plan's selling point to that point, and discard any slice that comes before that. do the steps A-4-5 for the remaining ones\n",
    "C. 4.2- if you don't have a better selling point at further on the timeline and your highest is still valid, continue with your plan and do the A-4-5 with remaining ones\n",
    "C. 4.3, if you don't have a better selling point at further on the timeline and your highest is now invalid, find the highest selling point that you can find, set your ongoing plan's selling point to that point to get away with lowest money loss. and do the A-4-5 with remaining ones\n",
    "\n",
    "set all buy and sell actions with an error margin"
   ]
  },
  {
   "cell_type": "markdown",
   "metadata": {},
   "source": []
  }
 ],
 "metadata": {
  "kernelspec": {
   "display_name": "490-venv",
   "language": "python",
   "name": "python3"
  },
  "language_info": {
   "codemirror_mode": {
    "name": "ipython",
    "version": 3
   },
   "file_extension": ".py",
   "mimetype": "text/x-python",
   "name": "python",
   "nbconvert_exporter": "python",
   "pygments_lexer": "ipython3",
   "version": "3.10.12"
  }
 },
 "nbformat": 4,
 "nbformat_minor": 2
}
